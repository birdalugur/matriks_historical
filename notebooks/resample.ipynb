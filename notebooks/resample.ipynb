{
 "cells": [
  {
   "cell_type": "code",
   "execution_count": null,
   "metadata": {},
   "outputs": [],
   "source": [
    "import pandas as pd\n",
    "import numpy as np"
   ]
  },
  {
   "cell_type": "code",
   "execution_count": null,
   "metadata": {},
   "outputs": [],
   "source": [
    "# okunacak veri\n",
    "file_path = '/home/ugur/bist_data/bist30data.csv'"
   ]
  },
  {
   "cell_type": "code",
   "execution_count": null,
   "metadata": {},
   "outputs": [],
   "source": [
    "dt = {'symbol': 'str', 'bid_price':'float64',  'mid_price':'float64'}\n",
    "parse_dates = ['date']"
   ]
  },
  {
   "cell_type": "code",
   "execution_count": null,
   "metadata": {},
   "outputs": [],
   "source": [
    "data = pd.read_csv(file_path,dtype=dt,parse_dates=parse_dates)"
   ]
  },
  {
   "cell_type": "code",
   "execution_count": null,
   "metadata": {},
   "outputs": [],
   "source": [
    "data.set_index('date',inplace=True)"
   ]
  },
  {
   "cell_type": "code",
   "execution_count": null,
   "metadata": {},
   "outputs": [],
   "source": [
    "def to_pivot(x):\n",
    "    return x.drop('symbol',axis=1)\\\n",
    "        .reset_index().pivot_table(index='date',columns='symbol',values='mid_price',dropna=False).ffill()"
   ]
  },
  {
   "cell_type": "code",
   "execution_count": null,
   "metadata": {},
   "outputs": [],
   "source": [
    "days=[]"
   ]
  },
  {
   "cell_type": "code",
   "execution_count": null,
   "metadata": {},
   "outputs": [],
   "source": [
    "for g, day in data.resample('D'):\n",
    "    days.append(day.groupby('symbol')\\\n",
    "                .resample('5Min',label='right',closed='right').last())"
   ]
  },
  {
   "cell_type": "code",
   "execution_count": null,
   "metadata": {},
   "outputs": [],
   "source": [
    "days = [day for day in days if day.size != 0]"
   ]
  },
  {
   "cell_type": "code",
   "execution_count": null,
   "metadata": {},
   "outputs": [],
   "source": [
    "pivots = [to_pivot(day) for day in days]"
   ]
  },
  {
   "cell_type": "code",
   "execution_count": null,
   "metadata": {},
   "outputs": [],
   "source": [
    "folder = '../data/5min/'"
   ]
  },
  {
   "cell_type": "code",
   "execution_count": null,
   "metadata": {},
   "outputs": [],
   "source": [
    "start = []\n",
    "end = []\n",
    "for pivot in pivots:\n",
    "    start.append(pivot.index.min())\n",
    "    end.append(pivot.index.max())\n",
    "time_info = pd.DataFrame({'start_time':start,'end_time':end})\n",
    "time_info.to_csv(folder + 'time_info.csv')"
   ]
  },
  {
   "cell_type": "code",
   "execution_count": null,
   "metadata": {},
   "outputs": [],
   "source": [
    "for pivot in pivots:\n",
    "    name = str(pivot.index.date[0]) + '.csv'    \n",
    "    pivot.to_csv(folder+name)"
   ]
  },
  {
   "cell_type": "markdown",
   "metadata": {},
   "source": [
    "--------------------------------------------------------------------------------------------------------\n",
    "**resample fonksiyonu** kullanılarak 5'er dakikalık olacak şekilde veri yeniden şekillendirildi. Her **5dk'lık** dilim içerisindeki **son data** alındı. Bu, ilk parametre **5Min** ayarlanarak ve **last()** fonksiyonu kullanılarak yapıldı. \n",
    ">resample fonksiyonunda kullanılabilecek diğer parametreler\n",
    "<br>\n",
    "\n",
    "```\t\n",
    "    **Alias** \t**Description**\n",
    "\tB \t\t      business day frequency\n",
    "\tC \t\t      custom business day frequency (experimental)\n",
    "\tD \t\t      calendar day frequency\n",
    "\tW \t\t      weekly frequency\n",
    "\tM \t\t      month end frequency\n",
    "\tBM \t\t      business month end frequency\n",
    "\tCBM \t      custom business month end frequency\n",
    "\tMS \t\t      month start frequency\n",
    "\tBMS \t      business month start frequency\n",
    "\tCBMS \t      custom business month start frequency\n",
    "\tQ \t\t      quarter end frequency\n",
    "\tBQ \t\t      business quarter endfrequency\n",
    "\tQS \t\t      quarter start frequency\n",
    "\tBQS \t      business quarter start frequency\n",
    "\tA \t\t      year end frequency\n",
    "\tBA \t\t      business year end frequency\n",
    "\tAS \t\t      year start frequency\n",
    "\tBAS \t      business year start frequency\n",
    "\tBH \t\t      business hour frequency\n",
    "\tH \t\t      hourly frequency\n",
    "\tT, min \t      minutely frequency\n",
    "\tS \t\t      secondly frequency\n",
    "\tL, ms \t      milliseonds\n",
    "\tU, us \t      microseconds\n",
    "\tN \t\t      nanoseconds\n",
    "```\n",
    "Son veriyi değil de ortalama almak istersek **.last()** yerine **.mean()** fonksiyonu kullanılacak.\n",
    "<br>\n",
    "Benzer şekilde kullanılabilecek fonksiyonlar **max,min,std,sum,median,...**\n",
    "\n",
    "--------------------------------------------------------------------------------------------------------------"
   ]
  }
 ],
 "metadata": {
  "kernelspec": {
   "display_name": "Python 3",
   "language": "python",
   "name": "python3"
  },
  "language_info": {
   "codemirror_mode": {
    "name": "ipython",
    "version": 3
   },
   "file_extension": ".py",
   "mimetype": "text/x-python",
   "name": "python",
   "nbconvert_exporter": "python",
   "pygments_lexer": "ipython3",
   "version": "3.6.9"
  }
 },
 "nbformat": 4,
 "nbformat_minor": 2
}
