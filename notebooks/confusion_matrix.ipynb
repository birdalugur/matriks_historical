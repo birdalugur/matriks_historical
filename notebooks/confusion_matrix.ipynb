{
 "cells": [
  {
   "cell_type": "code",
   "execution_count": null,
   "metadata": {
    "pycharm": {
     "is_executing": false
    }
   },
   "outputs": [],
   "source": [
    "# kullanılacak kütüphaneler import ediliyor\n",
    "import pandas as pd\n",
    "import numpy as np\n",
    "from sklearn.metrics import confusion_matrix\n",
    "import plotly.graph_objects as go"
   ]
  },
  {
   "cell_type": "code",
   "execution_count": null,
   "metadata": {
    "pycharm": {
     "is_executing": false
    }
   },
   "outputs": [],
   "source": [
    "data_path: str = 'bist30data.csv' # data'ya ait yol\n",
    "\n",
    "# csv'den okunacak verilerin tiplerini belirttik\n",
    "dt: dict = {'symbol': 'str', 'bid_price': 'float64', 'mid_price': 'float64'}\n",
    "parse_dates: list = ['date']"
   ]
  },
  {
   "cell_type": "code",
   "execution_count": null,
   "metadata": {
    "pycharm": {
     "is_executing": false
    }
   },
   "outputs": [],
   "source": [
    "# veri okunuyor\n",
    "data: pd.DataFrame = pd.read_csv(data_path, dtype=dt, parse_dates=parse_dates,index_col='date')"
   ]
  },
  {
   "cell_type": "code",
   "execution_count": null,
   "metadata": {},
   "outputs": [],
   "source": [
    "# TEST DATA\n",
    "all_data = data.resample('D')\n",
    "\n",
    "data= list(all_data)[6][1]\n",
    "\n",
    "data = data.reset_index().pivot_table(index='date',columns='symbol',values='mid_price')"
   ]
  },
  {
   "cell_type": "markdown",
   "metadata": {},
   "source": [
    "### Fonksiyonlar"
   ]
  },
  {
   "cell_type": "code",
   "execution_count": null,
   "metadata": {},
   "outputs": [],
   "source": [
    "def last_time(x):\n",
    "    \"\"\"DatetimeIndex'deki son zamanı döndürür\n",
    "    \"\"\"\n",
    "    x=x.reset_index()\n",
    "    return x.iloc[-1].date"
   ]
  },
  {
   "cell_type": "code",
   "execution_count": null,
   "metadata": {},
   "outputs": [],
   "source": [
    "def first_val(x):   \n",
    "    x_drop = x.dropna()\n",
    "    if len(x_drop) != 0:\n",
    "        return x_drop[0]\n",
    "    else:\n",
    "        return np.nan"
   ]
  },
  {
   "cell_type": "code",
   "execution_count": null,
   "metadata": {},
   "outputs": [],
   "source": [
    "def mark_data(data):\n",
    "    \"\"\"Dalgaları bulmak için verileri işaretler\n",
    "    Parameters\n",
    "    ----------\n",
    "    data (pd.Series): Negatif,pozitif ve 0 içerebilen sayı dizisi\n",
    "    Return\n",
    "    ------\n",
    "    signs (pd.Series): 1,1,1,2,2,3,3,3,4,5,6,6..vs gibi işaretlenmiş seri\n",
    "    \"\"\"\n",
    "    # mask the zeros\n",
    "    s = data.eq(0)\n",
    "    # merge the zeros to the wave after them\n",
    "    m = np.sign(data).mask(s).bfill()\n",
    "    # result\n",
    "    marked_data = m.diff().ne(0).cumsum()\n",
    "    marked_data.name='sign'\n",
    "    return marked_data"
   ]
  },
  {
   "cell_type": "code",
   "execution_count": null,
   "metadata": {},
   "outputs": [],
   "source": [
    "def generate_data(number : int, zero: int, nan: int) -> pd.Series:\n",
    "    \"\"\" Random veri oluşturmak için kullanılır\n",
    "    @number : oluşturulacak veri sayısı\n",
    "    @zero : oluşturulacak verideki sıfır sayısı\n",
    "    @nan : oluşturulacak verideki NaN değer sayısı\n",
    "    \"\"\"\n",
    "    data = np.random.randint(-20, 20,number)\n",
    "    data=pd.Series(data)\n",
    "    data[np.random.choice(data.index,zero)] = 0\n",
    "    data[np.random.choice(data.index,nan)] = np.nan\n",
    "    return data"
   ]
  },
  {
   "cell_type": "code",
   "execution_count": null,
   "metadata": {
    "scrolled": true
   },
   "outputs": [],
   "source": [
    "# deneme amaçlı 2 veri oluşturuluyor.\n",
    "data1 = generate_data(25,7,4) #pivot\n",
    "data2 = generate_data(25,9,5) \n",
    "pd.concat([data1,data2],axis=1)"
   ]
  },
  {
   "cell_type": "code",
   "execution_count": null,
   "metadata": {},
   "outputs": [],
   "source": [
    "fluctuation_bools = ~(np.sign(data1).eq(0) | data1.isna())"
   ]
  },
  {
   "cell_type": "code",
   "execution_count": null,
   "metadata": {},
   "outputs": [],
   "source": [
    "fluctuation_signs =  fluctuation_bools.cumsum()"
   ]
  },
  {
   "cell_type": "code",
   "execution_count": null,
   "metadata": {
    "scrolled": true
   },
   "outputs": [],
   "source": [
    "d1=pd.concat([fluctuation_signs,data1,data2],axis=1)"
   ]
  },
  {
   "cell_type": "code",
   "execution_count": null,
   "metadata": {},
   "outputs": [],
   "source": [
    "d1.groupby(0).size()[d1.groupby(0).size()==1].index+1"
   ]
  },
  {
   "cell_type": "code",
   "execution_count": null,
   "metadata": {
    "scrolled": true
   },
   "outputs": [],
   "source": [
    "d1"
   ]
  },
  {
   "cell_type": "code",
   "execution_count": null,
   "metadata": {},
   "outputs": [],
   "source": []
  },
  {
   "cell_type": "code",
   "execution_count": null,
   "metadata": {},
   "outputs": [],
   "source": []
  },
  {
   "cell_type": "code",
   "execution_count": null,
   "metadata": {},
   "outputs": [],
   "source": []
  },
  {
   "cell_type": "code",
   "execution_count": null,
   "metadata": {},
   "outputs": [],
   "source": []
  },
  {
   "cell_type": "code",
   "execution_count": null,
   "metadata": {},
   "outputs": [],
   "source": []
  },
  {
   "cell_type": "code",
   "execution_count": null,
   "metadata": {},
   "outputs": [],
   "source": []
  },
  {
   "cell_type": "code",
   "execution_count": null,
   "metadata": {},
   "outputs": [],
   "source": []
  },
  {
   "cell_type": "code",
   "execution_count": null,
   "metadata": {},
   "outputs": [],
   "source": []
  },
  {
   "cell_type": "code",
   "execution_count": null,
   "metadata": {},
   "outputs": [],
   "source": []
  },
  {
   "cell_type": "code",
   "execution_count": null,
   "metadata": {},
   "outputs": [],
   "source": []
  },
  {
   "cell_type": "code",
   "execution_count": null,
   "metadata": {},
   "outputs": [],
   "source": []
  },
  {
   "cell_type": "code",
   "execution_count": null,
   "metadata": {},
   "outputs": [],
   "source": []
  },
  {
   "cell_type": "code",
   "execution_count": null,
   "metadata": {},
   "outputs": [],
   "source": []
  },
  {
   "cell_type": "code",
   "execution_count": null,
   "metadata": {},
   "outputs": [],
   "source": []
  },
  {
   "cell_type": "code",
   "execution_count": null,
   "metadata": {},
   "outputs": [],
   "source": []
  },
  {
   "cell_type": "code",
   "execution_count": null,
   "metadata": {},
   "outputs": [],
   "source": [
    "def up_down(var_1 : pd.Series, var_2 : pd.Series) -> pd.DataFrame:\n",
    "    \"\"\"this function is for testing the result\"\"\"\n",
    "    var_1[var_1 < 0] = -1\n",
    "    var_1[var_1 == 0] = 0\n",
    "    var_1[var_1 > 0] = 1\n",
    "\n",
    "    \n",
    "    var_2[var_2 < 0] = -1\n",
    "    var_2[var_2 == 0] = 0\n",
    "    var_2[var_2 > 0] = 1\n",
    "    \n",
    "    sign_1 = var_1.astype('str').apply(lambda x : x.split('.')[0])\n",
    "    sign_2 = var_2.astype('str').apply(lambda x : x.split('.')[0])\n",
    "    result = sign_1+sign_2\n",
    "    result.name = 'result'\n",
    "    return pd.concat([var_1,var_2,result],axis=1)"
   ]
  },
  {
   "cell_type": "code",
   "execution_count": null,
   "metadata": {},
   "outputs": [],
   "source": []
  },
  {
   "cell_type": "code",
   "execution_count": null,
   "metadata": {},
   "outputs": [],
   "source": []
  },
  {
   "cell_type": "code",
   "execution_count": null,
   "metadata": {
    "pycharm": {
     "is_executing": false
    }
   },
   "outputs": [],
   "source": [
    "akbnk = data['AKBNK']"
   ]
  },
  {
   "cell_type": "code",
   "execution_count": null,
   "metadata": {
    "pycharm": {
     "is_executing": false
    }
   },
   "outputs": [],
   "source": [
    "garan = data['GARAN']"
   ]
  },
  {
   "cell_type": "markdown",
   "metadata": {},
   "source": [
    "### Change"
   ]
  },
  {
   "cell_type": "code",
   "execution_count": null,
   "metadata": {},
   "outputs": [],
   "source": [
    "# NaN'ları kaldır ve change'i hesapla\n",
    "change_1 = akbnk.dropna().diff().dropna()\n",
    "change_2 = garan.dropna().diff().dropna()\n",
    "change_df = pd.concat([change_1,change_2],axis=1).dropna(how='all')\n",
    "# index'n zaman aralığı ayarlanıyor\n",
    "# bu,pivot'un başlangıç ve bitiş zamanıdır.\n",
    "change_df=change_df[(change_df.index >= change_1.index.min()) & (change_df.index <= change_1.index.max())]"
   ]
  },
  {
   "cell_type": "code",
   "execution_count": null,
   "metadata": {},
   "outputs": [],
   "source": []
  },
  {
   "cell_type": "code",
   "execution_count": null,
   "metadata": {},
   "outputs": [],
   "source": []
  },
  {
   "cell_type": "code",
   "execution_count": null,
   "metadata": {},
   "outputs": [],
   "source": []
  },
  {
   "cell_type": "code",
   "execution_count": null,
   "metadata": {},
   "outputs": [],
   "source": []
  },
  {
   "cell_type": "code",
   "execution_count": null,
   "metadata": {},
   "outputs": [],
   "source": []
  },
  {
   "cell_type": "code",
   "execution_count": null,
   "metadata": {},
   "outputs": [],
   "source": []
  },
  {
   "cell_type": "code",
   "execution_count": null,
   "metadata": {},
   "outputs": [],
   "source": []
  },
  {
   "cell_type": "code",
   "execution_count": null,
   "metadata": {},
   "outputs": [],
   "source": [
    "# # baştaki ve sondaki nan'ları kaldır\n",
    "# change_df = change_df[change_df.first_valid_index():change_df.last_valid_index()]"
   ]
  },
  {
   "cell_type": "code",
   "execution_count": null,
   "metadata": {},
   "outputs": [],
   "source": [
    "# pivot'un negatif ve pozitif hareketleri işaretleniyor.\n",
    "marks = mark_data(change_df.iloc[:,0])"
   ]
  },
  {
   "cell_type": "code",
   "execution_count": null,
   "metadata": {},
   "outputs": [],
   "source": [
    "first = change_df.iloc[:,0].groupby(marks).sum()"
   ]
  },
  {
   "cell_type": "code",
   "execution_count": null,
   "metadata": {},
   "outputs": [],
   "source": [
    "second = change_df.iloc[:,1].groupby(marks).apply(first_val)"
   ]
  },
  {
   "cell_type": "code",
   "execution_count": null,
   "metadata": {},
   "outputs": [],
   "source": [
    "time_series = change_df.groupby(marks).apply(last_time)"
   ]
  },
  {
   "cell_type": "code",
   "execution_count": null,
   "metadata": {},
   "outputs": [],
   "source": [
    "time_series.name= 'date'"
   ]
  },
  {
   "cell_type": "code",
   "execution_count": null,
   "metadata": {},
   "outputs": [],
   "source": [
    "result = pd.concat([time_series,first,second],axis=1)"
   ]
  },
  {
   "cell_type": "code",
   "execution_count": null,
   "metadata": {},
   "outputs": [],
   "source": [
    "result = result.loc[np.trim_zeros(result.AKBNK).index]\n",
    "result = result.fillna(0)"
   ]
  },
  {
   "cell_type": "code",
   "execution_count": null,
   "metadata": {},
   "outputs": [],
   "source": [
    "result=result.set_index('date')"
   ]
  },
  {
   "cell_type": "code",
   "execution_count": null,
   "metadata": {},
   "outputs": [],
   "source": [
    "result[result < 0] = -1\n",
    "result[result == 0] = 0\n",
    "result[result > 0] = 1"
   ]
  },
  {
   "cell_type": "code",
   "execution_count": null,
   "metadata": {},
   "outputs": [],
   "source": []
  },
  {
   "cell_type": "code",
   "execution_count": null,
   "metadata": {},
   "outputs": [],
   "source": []
  },
  {
   "cell_type": "code",
   "execution_count": null,
   "metadata": {},
   "outputs": [],
   "source": []
  },
  {
   "cell_type": "code",
   "execution_count": null,
   "metadata": {},
   "outputs": [],
   "source": []
  },
  {
   "cell_type": "code",
   "execution_count": null,
   "metadata": {},
   "outputs": [],
   "source": []
  },
  {
   "cell_type": "markdown",
   "metadata": {},
   "source": [
    "### Confusion Matrix "
   ]
  },
  {
   "cell_type": "code",
   "execution_count": null,
   "metadata": {},
   "outputs": [],
   "source": [
    "c_matrix = confusion_matrix(result.AKBNK,result.GARAN,labels=[1,0,-1]).T"
   ]
  },
  {
   "cell_type": "code",
   "execution_count": null,
   "metadata": {},
   "outputs": [],
   "source": [
    "c_matrix = np.delete(c_matrix,1,1)"
   ]
  },
  {
   "cell_type": "markdown",
   "metadata": {},
   "source": [
    "### Confusion Matrix Grafiği"
   ]
  },
  {
   "cell_type": "code",
   "execution_count": null,
   "metadata": {},
   "outputs": [],
   "source": [
    "import numpy as np\n",
    "import matplotlib.pyplot as plt\n",
    "import math\n",
    "import itertools\n",
    "from sklearn.metrics import confusion_matrix"
   ]
  },
  {
   "cell_type": "code",
   "execution_count": null,
   "metadata": {},
   "outputs": [],
   "source": [
    "def plot_confusion_matrix(cm, classes,\n",
    "                          normalize=False,\n",
    "                          title='Confusion matrix',\n",
    "                          cmap=plt.cm.Blues):\n",
    "    \"\"\"\n",
    "    This function prints and plots the confusion matrix.\n",
    "    Normalization can be applied by setting `normalize=True`.\n",
    "    \"\"\"\n",
    "    if normalize:\n",
    "        cm = cm.astype('float') / cm.sum(axis=1)[:, np.newaxis]\n",
    "        print(\"Normalized confusion matrix\")\n",
    "    else:\n",
    "        print('Confusion matrix, without normalization')\n",
    "\n",
    "    print(cm)\n",
    "\n",
    "    plt.imshow(cm, interpolation='nearest', cmap=cmap)\n",
    "    plt.title(title)\n",
    "    plt.colorbar()\n",
    "    \n",
    "    x_class = np.array(classes)[[0,2]]\n",
    "    y_class = np.array(classes)\n",
    "    \n",
    "    x_tick_marks = np.arange(len(x_class))\n",
    "    y_tick_marks = np.arange(len(y_class))\n",
    "    \n",
    "    plt.xticks(x_tick_marks, classes, rotation=45)\n",
    "    plt.yticks(y_tick_marks, classes)\n",
    "\n",
    "    fmt = '.2f' if normalize else 'd'\n",
    "    thresh = cm.max() / 2.\n",
    "    for i, j in itertools.product(range(cm.shape[0]), range(cm.shape[1])):\n",
    "        plt.text(j, i, format(cm[i, j], fmt),\n",
    "                 horizontalalignment=\"center\",\n",
    "                 color=\"white\" if cm[i, j] > thresh else \"black\")\n",
    "\n",
    "    plt.ylabel('True label')\n",
    "    plt.xlabel('Predicted label')\n",
    "    plt.tight_layout()"
   ]
  },
  {
   "cell_type": "code",
   "execution_count": null,
   "metadata": {},
   "outputs": [],
   "source": [
    "np.set_printoptions(precision=2)"
   ]
  },
  {
   "cell_type": "code",
   "execution_count": null,
   "metadata": {},
   "outputs": [],
   "source": [
    "class_names = ['up','const','down']"
   ]
  },
  {
   "cell_type": "code",
   "execution_count": null,
   "metadata": {},
   "outputs": [],
   "source": [
    "plt.figure()\n",
    "plot_confusion_matrix(c_matrix, classes=class_names,\n",
    "                      title='Confusion matrix, without normalization')\n",
    "\n",
    "plt.figure()\n",
    "plot_confusion_matrix(c_matrix, classes=class_names, normalize=True,\n",
    "                      title='Normalized confusion matrix')"
   ]
  },
  {
   "cell_type": "markdown",
   "metadata": {},
   "source": [
    "### Mutual Information Criteria"
   ]
  },
  {
   "cell_type": "code",
   "execution_count": null,
   "metadata": {},
   "outputs": [],
   "source": [
    "y_true=result.AKBNK\n",
    "y_pred=result.GARAN\n"
   ]
  },
  {
   "cell_type": "code",
   "execution_count": null,
   "metadata": {},
   "outputs": [],
   "source": [
    "import scipy.stats as stats\n",
    "from sklearn.metrics import  matthews_corrcoef, mutual_info_score\n",
    "from sklearn.metrics import adjusted_rand_score, r2_score , accuracy_score"
   ]
  },
  {
   "cell_type": "code",
   "execution_count": null,
   "metadata": {},
   "outputs": [],
   "source": [
    "c_matrix"
   ]
  },
  {
   "cell_type": "code",
   "execution_count": null,
   "metadata": {},
   "outputs": [],
   "source": [
    "from sklearn.metrics import  matthews_corrcoef, mutual_info_score\n",
    "from sklearn.metrics import adjusted_rand_score, r2_score , accuracy_score\n",
    "\n",
    "\n",
    "# cnf_matrix[[True,False,True],:]\n",
    "# cnf_matrix2d = np.delete(cnf_matrix,[1,3,4,5,7]).reshape(2,2)\n",
    "# cnf_matrix2d\n",
    "\n",
    "#oddsratio, pvalue = stats.fisher_exact(c_matrix)\n",
    "#print('Fischer exact test p-val: ',p_value)\n",
    "res = stats.chi2_contingency(c_matrix)\n",
    "print('Chi-square test p-val: ', res[1])\n",
    "mcc = matthews_corrcoef(y_true, y_pred)\n",
    "print(\"Mathews correlation coef. =\", mcc)\n",
    "acc = accuracy_score( y_true, y_pred)\n",
    "print('Accuracy score: ',acc)\n",
    "mi = mutual_info_score( y_true, y_pred)\n",
    "print('Mutual information score: ',mi)\n",
    "ari = adjusted_rand_score( y_true, y_pred)\n",
    "print('Adjusted random score: ',ari)\n",
    "\n",
    "# oddsratio, pvalue = stats.fisher_exact(y_true, y_pred)"
   ]
  },
  {
   "cell_type": "code",
   "execution_count": null,
   "metadata": {},
   "outputs": [],
   "source": []
  }
 ],
 "metadata": {
  "kernelspec": {
   "display_name": "Python 3",
   "language": "python",
   "name": "python3"
  },
  "language_info": {
   "codemirror_mode": {
    "name": "ipython",
    "version": 3
   },
   "file_extension": ".py",
   "mimetype": "text/x-python",
   "name": "python",
   "nbconvert_exporter": "python",
   "pygments_lexer": "ipython3",
   "version": "3.6.9"
  },
  "pycharm": {
   "stem_cell": {
    "cell_type": "raw",
    "metadata": {
     "collapsed": false
    },
    "source": []
   }
  }
 },
 "nbformat": 4,
 "nbformat_minor": 2
}
