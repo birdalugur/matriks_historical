{
 "cells": [
  {
   "cell_type": "code",
   "execution_count": 1,
   "metadata": {},
   "outputs": [],
   "source": [
    "import pandas as pd\n",
    "import multiprocessing as mp\n",
    "import numpy as np"
   ]
  },
  {
   "cell_type": "code",
   "execution_count": 2,
   "metadata": {
    "scrolled": true
   },
   "outputs": [],
   "source": [
    "data = pd.read_csv('../matriksdata.csv')"
   ]
  },
  {
   "cell_type": "code",
   "execution_count": 3,
   "metadata": {},
   "outputs": [],
   "source": [
    "# zaman sütunu datetime64 tipine dönüştürülüyor\n",
    "data['date_time'] = pd.to_datetime(data.date_time)"
   ]
  },
  {
   "cell_type": "code",
   "execution_count": 25,
   "metadata": {},
   "outputs": [
    {
     "name": "stdout",
     "output_type": "stream",
     "text": [
      "CPU times: user 12 s, sys: 197 ms, total: 12.2 s\n",
      "Wall time: 11.8 s\n"
     ]
    }
   ],
   "source": [
    "# Aynı datetime'a sahip symbol'lerden timestamp_ns değeri yüksek olan seçiliyor.\n",
    "data=data.groupby(['symbol','date_time']).apply(lambda x : last_time(x))\n",
    "data.reset_index(drop=True,inplace = True)"
   ]
  },
  {
   "cell_type": "code",
   "execution_count": null,
   "metadata": {},
   "outputs": [],
   "source": [
    "# # Aynı datetime'a sahip symbol'lerin ortalaması alınıyor\n",
    "# data = data.groupby(['symbol','date_time']).mean()\n",
    "# data.reset_index(inplace=True)"
   ]
  },
  {
   "cell_type": "code",
   "execution_count": null,
   "metadata": {},
   "outputs": [],
   "source": [
    "# mid_price hesaplanıyor\n",
    "data['mid_price'] = (data['bid_price']+data['ask_price'])/2"
   ]
  },
  {
   "cell_type": "code",
   "execution_count": null,
   "metadata": {},
   "outputs": [],
   "source": [
    "# symbol'ler sütunlara gelecek şekilde düzenleniyor\n",
    "data = data.pivot(index='date_time',columns='symbol',values='mid_price')"
   ]
  },
  {
   "cell_type": "code",
   "execution_count": null,
   "metadata": {},
   "outputs": [],
   "source": [
    "# Zaman seriler resample metodu kullanılarak, belirlenen koşula göre parçalara ayrılabilir.\n",
    "# Burada 'd' parametresi kullanılarak veriler günlük olarak bölünüyor\n",
    "# Diğer seçenekler için açıklama aşağıda\n",
    "daily_data = data.resample('D')"
   ]
  },
  {
   "cell_type": "code",
   "execution_count": null,
   "metadata": {},
   "outputs": [],
   "source": [
    "# # Veriler 5'er dakika olarak gösteriliyor.\n",
    "# resample_data = data.resample('5Min',label='right',closed='right').last()"
   ]
  },
  {
   "cell_type": "code",
   "execution_count": null,
   "metadata": {},
   "outputs": [],
   "source": [
    "# # NaN değerler bir önceki veri ile dolduruluyor\n",
    "# resample_data = resample_data.fillna(method='ffill')"
   ]
  },
  {
   "cell_type": "markdown",
   "metadata": {},
   "source": [
    "**resample fonksiyonu** kullanılarak 5'er dakikalık olacak şekilde veri yeniden şekillendirildi. Her **5dk'lık** dilim içerisindeki **son data** alındı. Bu, ilk parametre **5Min** ayarlanarak ve **last()** fonksiyonu kullanılarak yapıldı. \n",
    ">resample fonksiyonunda kullanılabilecek diğer parametreler\n",
    "<br>\n",
    "\n",
    "```\t\n",
    "    **Alias** \t**Description**\n",
    "\tB \t\t      business day frequency\n",
    "\tC \t\t      custom business day frequency (experimental)\n",
    "\tD \t\t      calendar day frequency\n",
    "\tW \t\t      weekly frequency\n",
    "\tM \t\t      month end frequency\n",
    "\tBM \t\t      business month end frequency\n",
    "\tCBM \t      custom business month end frequency\n",
    "\tMS \t\t      month start frequency\n",
    "\tBMS \t      business month start frequency\n",
    "\tCBMS \t      custom business month start frequency\n",
    "\tQ \t\t      quarter end frequency\n",
    "\tBQ \t\t      business quarter endfrequency\n",
    "\tQS \t\t      quarter start frequency\n",
    "\tBQS \t      business quarter start frequency\n",
    "\tA \t\t      year end frequency\n",
    "\tBA \t\t      business year end frequency\n",
    "\tAS \t\t      year start frequency\n",
    "\tBAS \t      business year start frequency\n",
    "\tBH \t\t      business hour frequency\n",
    "\tH \t\t      hourly frequency\n",
    "\tT, min \t      minutely frequency\n",
    "\tS \t\t      secondly frequency\n",
    "\tL, ms \t      milliseonds\n",
    "\tU, us \t      microseconds\n",
    "\tN \t\t      nanoseconds\n",
    "```\n",
    "Son veriyi değil de ortalama almak istersek **.last()** yerine **.mean()** fonksiyonu kullanılacak.\n",
    "<br>\n",
    "Benzer şekilde kullanılabilecek fonksiyonlar **max,min,std,sum,median,...**"
   ]
  },
  {
   "cell_type": "code",
   "execution_count": null,
   "metadata": {},
   "outputs": [],
   "source": [
    "# Her bir gün ayrıca 5'er dakikaya ayrılarak csv formatında yazdırılıyor\n",
    "# Yukarıda comment ile kapatılmış kodlar bu döngü içerisinde kullanıldı\n",
    "for group in list(rd.groups):\n",
    "    current_data = daily_data.get_group(group)\n",
    "    current_data = current_data.resample('5Min',label='right',closed='right').last()\n",
    "    current_data.to_csv(str(group.date())+'.csv')    "
   ]
  },
  {
   "cell_type": "code",
   "execution_count": null,
   "metadata": {},
   "outputs": [],
   "source": [
    "# start_time = data.date_time.min()\n",
    "# end_time = data.date_time.max()\n",
    "# time_series = pd.date_range(start=start_time, end=end_time,freq='S')\n",
    "# pivot_data = data.reindex(time_series)"
   ]
  }
 ],
 "metadata": {
  "kernelspec": {
   "display_name": "Python 3",
   "language": "python",
   "name": "python3"
  },
  "language_info": {
   "codemirror_mode": {
    "name": "ipython",
    "version": 3
   },
   "file_extension": ".py",
   "mimetype": "text/x-python",
   "name": "python",
   "nbconvert_exporter": "python",
   "pygments_lexer": "ipython3",
   "version": "3.6.9"
  }
 },
 "nbformat": 4,
 "nbformat_minor": 2
}
