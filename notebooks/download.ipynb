{
 "cells": [
  {
   "cell_type": "code",
   "execution_count": null,
   "metadata": {},
   "outputs": [],
   "source": [
    "from time import sleep\n",
    "import pandas as pd\n",
    "import matriks_historical as mh\n",
    "# news = mh.news(username, password, symbol='THYAO')\n",
    "# print((news.iloc[1]['content']))\n",
    "# print(news[['content', 'source']])\n",
    "# print(news.shape)\n",
    "\n",
    "\n",
    "# for i in range(0, len(bar_data['date'])-1):\n",
    "#         if bar_data['date'][i] == bar_data['date'][i+1]:\n",
    "#                 print(str(bar_data['date'][i]) + \" : Tarihinden iki tane var!\")\n",
    "#                 pQQrint(\"Index : \" + str(i))\n"
   ]
  },
  {
   "cell_type": "code",
   "execution_count": null,
   "metadata": {},
   "outputs": [],
   "source": [
    "username = '12951' #your username or userid\n",
    "password = 'VELI2951' #your password\n",
    "mtx = mh.MatriksData(username, password)"
   ]
  },
  {
   "cell_type": "code",
   "execution_count": null,
   "metadata": {},
   "outputs": [],
   "source": [
    "start_date = '2020-01-31'\n",
    "end_date = '2020-01-31'\n",
    "# bar_data = mtx.bar('GARAN', start_date, end_date, period='1day')\n",
    "#ege_data = mtx.bestbidoffer('GARAN',start_date, end_date)"
   ]
  },
  {
   "cell_type": "code",
   "execution_count": null,
   "metadata": {},
   "outputs": [],
   "source": [
    "symbolCodes=['GOODY', 'ALKIM', 'KOZAL']"
   ]
  },
  {
   "cell_type": "code",
   "execution_count": null,
   "metadata": {},
   "outputs": [],
   "source": [
    "symbolCodes=['GOODY', 'ALKIM', 'KOZAL', 'TTKOM', 'VESTL', 'TRGYO', 'TCELL',\n",
    "       'PETKM', 'SISE', 'CEMTS', 'GOZDE', 'MGROS', 'ENKAI', 'ISMEN',\n",
    "       'TSKB', 'HALKB', 'AKSEN', 'YKBNK', 'TMSN', 'ECZYT', 'DOAS',\n",
    "       'ZOREN', 'BRISA', 'VAKBN', 'DOHOL', 'SKBNK', 'AKBNK', 'ANACM',\n",
    "       'ISGYO', 'KARSN', 'HURGZ', 'CLEBI', 'GARAN', 'SARKY', 'KERVT',\n",
    "       'AYGAZ', 'TTRAK', 'KOZAA', 'BIMAS', 'TKFEN', 'BRSAN', 'ANSGR',\n",
    "       'FROTO', 'KARTN', 'TOASO', 'TUPRS', 'KORDS', 'DEVA', 'ODAS',\n",
    "       'SODA', 'LOGO', 'GUBRF', 'KRDMD', 'ALBRK', 'GUSGR', 'ECILC',\n",
    "       'YGGYO', 'ANHYT', 'YATAS', 'ASELS', 'CIMSA', 'TRKCM', 'KCHOL',\n",
    "       'TATGD', 'AGHOL', 'AEFES', 'TAVHL', 'SASA', 'PGSUS', 'IPEKE',\n",
    "       'ULKER', 'EGEEN', 'CCOLA', 'AKGRT', 'OTKAR', 'EREGL', 'ARCLK',\n",
    "       'ISCTR', 'EKGYO', 'SAHOL', 'THYAO', 'ALARK', 'HEKTS', 'KRDMA',\n",
    "       'AKSA', 'HLGYO', 'NTHOL', 'ISFIN', 'ENJSA', 'MAVI', 'ISDMR',\n",
    "       'ODAS R', 'MPARK', 'SOKM', 'ODAS TR']"
   ]
  },
  {
   "cell_type": "code",
   "execution_count": null,
   "metadata": {},
   "outputs": [],
   "source": [
    "not_received = []"
   ]
  },
  {
   "cell_type": "code",
   "execution_count": null,
   "metadata": {},
   "outputs": [],
   "source": [
    "master_data = pd.DataFrame(columns=['symbol','date_time','timestamp_ns','bid_price','bid_size','ask_price','ask_size'])\n"
   ]
  },
  {
   "cell_type": "code",
   "execution_count": null,
   "metadata": {
    "scrolled": true
   },
   "outputs": [],
   "source": [
    "counter = 0\n",
    "for symbol in symbolCodes:\n",
    "    counter = counter + 1\n",
    "    try:\n",
    "        data = mtx.bestbidoffer(symbol,start_date, end_date)\n",
    "        master_data = master_data.append(data,sort=False)\n",
    "        sleep(1)\n",
    "        print(counter, ' - ',symbol,'  veriler alındı!')\n",
    "    except ConnectionError:\n",
    "        not_received.append(symbol)\n",
    "        print(counter, ' - ',symbol,' HATA !')\n",
    "        sleep(1)"
   ]
  },
  {
   "cell_type": "code",
   "execution_count": null,
   "metadata": {},
   "outputs": [],
   "source": [
    "master_data.to_csv('matriksdata.csv',index=False)"
   ]
  }
 ],
 "metadata": {
  "file_extension": ".py",
  "kernelspec": {
   "display_name": "Python 3",
   "language": "python",
   "name": "python3"
  },
  "language_info": {
   "codemirror_mode": {
    "name": "ipython",
    "version": 3
   },
   "file_extension": ".py",
   "mimetype": "text/x-python",
   "name": "python",
   "nbconvert_exporter": "python",
   "pygments_lexer": "ipython3",
   "version": "3.6.9"
  },
  "mimetype": "text/x-python",
  "name": "python",
  "npconvert_exporter": "python",
  "pygments_lexer": "ipython3",
  "version": 3
 },
 "nbformat": 4,
 "nbformat_minor": 2
}
